{
 "cells": [
  {
   "cell_type": "code",
   "execution_count": 1,
   "id": "behind-stylus",
   "metadata": {},
   "outputs": [],
   "source": [
    "# Basic Modules of Data Analysis"
   ]
  },
  {
   "cell_type": "code",
   "execution_count": 97,
   "id": "circular-issue",
   "metadata": {},
   "outputs": [],
   "source": [
    "import io\n",
    "import pandas as pd\n",
    "from pandas import DataFrame\n",
    "import numpy as np\n",
    "import time"
   ]
  },
  {
   "cell_type": "code",
   "execution_count": 98,
   "id": "rubber-asthma",
   "metadata": {},
   "outputs": [],
   "source": [
    "# ipywidget module is for \n",
    "# Buttons , Sliders , Dropbox "
   ]
  },
  {
   "cell_type": "code",
   "execution_count": 99,
   "id": "cdc54d46",
   "metadata": {},
   "outputs": [],
   "source": [
    "import warnings\n",
    "warnings.filterwarnings('ignore')\n",
    "\n",
    "import ipywidgets as widgets\n",
    "from IPython.display import display, clear_output"
   ]
  },
  {
   "cell_type": "code",
   "execution_count": 100,
   "id": "executed-division",
   "metadata": {},
   "outputs": [],
   "source": [
    "# If your code doesn't show a voila button on your pc then run below lines to install nbextention, voila "
   ]
  },
  {
   "cell_type": "code",
   "execution_count": 101,
   "id": "952a3179",
   "metadata": {},
   "outputs": [],
   "source": [
    "#!jupyter nbextention enable --py widgetsnbextension --sys-prefix\n",
    "#!jupyter serverextension enable voila --sys-prefix"
   ]
  },
  {
   "cell_type": "code",
   "execution_count": 102,
   "id": "exotic-times",
   "metadata": {},
   "outputs": [],
   "source": [
    "#Reading Files"
   ]
  },
  {
   "cell_type": "code",
   "execution_count": 103,
   "id": "21a5239d",
   "metadata": {},
   "outputs": [],
   "source": [
    "data_1=pd.read_csv('cars_engage_2022.csv')"
   ]
  },
  {
   "cell_type": "markdown",
   "id": "weekly-camcorder",
   "metadata": {},
   "source": [
    "#                                              Get Your Best Car "
   ]
  },
  {
   "cell_type": "code",
   "execution_count": 104,
   "id": "590b82b0",
   "metadata": {},
   "outputs": [],
   "source": [
    "img1=open('car_10.jpg','rb').read()\n",
    "img2=open('Thank.jpg','rb').read()"
   ]
  },
  {
   "cell_type": "code",
   "execution_count": 128,
   "id": "578521a9",
   "metadata": {},
   "outputs": [],
   "source": [
    "wi1 = widgets.Image(value=img1, format='jpg', width=1400, height=300)\n",
    "wi2 = widgets.Image(value=img2, format='jpg', width=1400, height=100)"
   ]
  },
  {
   "cell_type": "code",
   "execution_count": 129,
   "id": "saved-layer",
   "metadata": {},
   "outputs": [
    {
     "data": {
      "application/vnd.jupyter.widget-view+json": {
       "model_id": "0476a2a77636454a85e5b4cfb20ecc69",
       "version_major": 2,
       "version_minor": 0
      },
      "text/plain": [
       "Image(value=b'\\xff\\xd8\\xff\\xe0\\x00\\x10JFIF\\x00\\x01\\x01\\x01\\x00H\\x00H\\x00\\x00\\xff\\xe2\\x02\\x1cICC_PROFILE\\x00\\x0…"
      ]
     },
     "metadata": {},
     "output_type": "display_data"
    }
   ],
   "source": [
    "# Side by side\n",
    "#sidebyside=widgets.HBox([wi2,wi3])\n",
    "# Final Show\n",
    "display(wi1)"
   ]
  },
  {
   "cell_type": "code",
   "execution_count": 107,
   "id": "543d5225",
   "metadata": {},
   "outputs": [],
   "source": [
    "cars_data=DataFrame(data_1,columns=['Model No','Make','Model','Ex_Showroom_Price','Sale_per_year','Model_year','Fuel_Type','Seating_Capacity','Speedometer',])"
   ]
  },
  {
   "cell_type": "code",
   "execution_count": null,
   "id": "mechanical-butler",
   "metadata": {},
   "outputs": [],
   "source": []
  },
  {
   "cell_type": "code",
   "execution_count": 108,
   "id": "dress-profile",
   "metadata": {},
   "outputs": [],
   "source": [
    "# Extracting some basics information from file\n",
    "# like unique models , max car price , min car price \n",
    "# seating capacities in the car ..etc.."
   ]
  },
  {
   "cell_type": "code",
   "execution_count": 109,
   "id": "522bdf6d",
   "metadata": {},
   "outputs": [],
   "source": [
    "seat_capacity_tuple=cars_data.Seating_Capacity.unique()\n",
    "seat_capacity_list=list(seat_capacity_tuple)\n",
    "seat_capacity=seat_capacity_list\n",
    "fuel_type_tuple=cars_data.Fuel_Type.unique()\n",
    "fuel_capacity_list=list(fuel_type_tuple)\n",
    "fuel_type=fuel_capacity_list\n",
    "Min_budget=cars_data.Ex_Showroom_Price.min()\n",
    "Max_budget=cars_data.Ex_Showroom_Price.max()\n",
    "budget=(Min_budget,Max_budget,100000)"
   ]
  },
  {
   "cell_type": "code",
   "execution_count": 110,
   "id": "5ea65c40",
   "metadata": {},
   "outputs": [],
   "source": [
    "make_tuple=cars_data.Make.unique()\n",
    "make_list=list(make_tuple)\n",
    "make_list.append('Any')\n",
    "make_choice=make_list"
   ]
  },
  {
   "cell_type": "code",
   "execution_count": 111,
   "id": "tutorial-equilibrium",
   "metadata": {},
   "outputs": [],
   "source": [
    "aux_com=['Yes', 'No']\n",
    "model_year=['2016','2017','2018','2019','2020','2021']\n",
    "speedometer=['Analog','Digital','Any']\n",
    "fluctuation=100000"
   ]
  },
  {
   "cell_type": "code",
   "execution_count": null,
   "id": "c8df77a0",
   "metadata": {},
   "outputs": [],
   "source": []
  },
  {
   "cell_type": "code",
   "execution_count": null,
   "id": "centered-charter",
   "metadata": {},
   "outputs": [],
   "source": []
  },
  {
   "cell_type": "code",
   "execution_count": null,
   "id": "bf8a7e08",
   "metadata": {},
   "outputs": [],
   "source": []
  },
  {
   "cell_type": "code",
   "execution_count": null,
   "id": "ca24cd7c",
   "metadata": {},
   "outputs": [],
   "source": []
  },
  {
   "cell_type": "code",
   "execution_count": null,
   "id": "973e3615",
   "metadata": {},
   "outputs": [],
   "source": []
  },
  {
   "cell_type": "markdown",
   "id": "cardiovascular-bundle",
   "metadata": {},
   "source": [
    "# Use the below filter buttons to pick your best Car"
   ]
  },
  {
   "cell_type": "code",
   "execution_count": 112,
   "id": "younger-dispatch",
   "metadata": {},
   "outputs": [],
   "source": [
    "def filter(Budget=2000000,Make_Choice='Any',Seat_Capacity='4',Model_Year='2017',Fuel_Type='Any',Speedometer='Analog'):\n",
    "    list_1=pd.DataFrame({\n",
    "            \"Model No\" :[]\n",
    "            ,\"Make\" :[]\n",
    "            ,\"Model\" :[]\n",
    "            ,\"Ex_Showroom_Price\" :[]\n",
    "            ,\"Sale_per_year\" :[]\n",
    "            ,\"Model_year\" :[]\n",
    "            ,\"Fuel_Type\" :[]\n",
    "            ,\"Seating_Capacity\" :[]\n",
    "            ,\"Speedometer\" :[]\n",
    "        })\n",
    "    Make_Choice=list(Make_Choice)\n",
    "    if(Make_Choice[0]!='Any'):\n",
    "        for make in Make_Choice:\n",
    "            Cars=cars_data[cars_data['Make']==make]\n",
    "            list_1=np.append(arr=list_1,values=Cars,axis=0)\n",
    "        list_1=pd.DataFrame(list_1)\n",
    "        list_1.columns=[\"Model No\" \n",
    "                ,\"Make\" \n",
    "                ,\"Model\"\n",
    "                ,\"Ex_Showroom_Price\" \n",
    "                ,\"Sale_per_year\" \n",
    "                ,\"Model_year\"\n",
    "                ,\"Fuel_Type\" \n",
    "                ,\"Seating_Capacity\" \n",
    "                ,\"Speedometer\" ]\n",
    "    else :\n",
    "        list_1=cars_data\n",
    "    list_1=list_1[list_1['Ex_Showroom_Price']<int(Budget)+fluctuation]\n",
    "    list_1=list_1[list_1['Seating_Capacity']>=int(Seat_Capacity)]\n",
    "    list_1 =list_1[list_1['Model_year']>=int(Model_Year)]\n",
    "    list_1= list_1[list_1['Fuel_Type']==Fuel_Type]\n",
    "    if(Speedometer!='Any'):\n",
    "        list_1=list_1[list_1['Speedometer']==Speedometer]    \n",
    "    list_1=list_1.sort_values(['Sale_per_year'],ascending =False)\n",
    "    display(list_1)"
   ]
  },
  {
   "cell_type": "code",
   "execution_count": 113,
   "id": "regular-recognition",
   "metadata": {},
   "outputs": [
    {
     "data": {
      "application/vnd.jupyter.widget-view+json": {
       "model_id": "0e68081c6c7743b596bb805b690cf0f6",
       "version_major": 2,
       "version_minor": 0
      },
      "text/plain": [
       "interactive(children=(IntSlider(value=2000000, description='Budget', max=9999725, min=1007070, step=100000), S…"
      ]
     },
     "metadata": {},
     "output_type": "display_data"
    },
    {
     "data": {
      "text/plain": [
       "<function __main__.filter(Budget=2000000, Make_Choice='Any', Seat_Capacity='4', Model_Year='2017', Fuel_Type='Any', Speedometer='Analog')>"
      ]
     },
     "execution_count": 113,
     "metadata": {},
     "output_type": "execute_result"
    }
   ],
   "source": [
    "widgets.interact(filter\n",
    "                 ,Budget=budget\n",
    "                 ,Make_Choice =widgets.SelectMultiple( value=['Any']\n",
    "                                                      ,options=make_choice\n",
    "                                                      ,description='Companies')\n",
    "                 ,Seat_Capacity=seat_capacity\n",
    "                 ,Model_Year=model_year\n",
    "                 ,Fuel_Type=fuel_type\n",
    "                 ,Speedometer=speedometer\n",
    "                )"
   ]
  },
  {
   "cell_type": "markdown",
   "id": "naughty-worth",
   "metadata": {},
   "source": [
    "# Upload your Data File ( File Should be in demo format )"
   ]
  },
  {
   "cell_type": "code",
   "execution_count": 114,
   "id": "plastic-language",
   "metadata": {},
   "outputs": [],
   "source": [
    "# Fluctuation in budget "
   ]
  },
  {
   "cell_type": "code",
   "execution_count": 115,
   "id": "rocky-bracelet",
   "metadata": {},
   "outputs": [],
   "source": [
    "fluctuation=100000"
   ]
  },
  {
   "cell_type": "code",
   "execution_count": 116,
   "id": "8a0d4c84",
   "metadata": {
    "scrolled": false
   },
   "outputs": [],
   "source": [
    "def filter_2(Budget=2000000,Make_Choice='Any',Seat_Capacity='4',Model_Year='2017',Fuel_Type='Any',Speedometer='Analog'):\n",
    "        global car_data\n",
    "        list_1=pd.DataFrame({\n",
    "                \"Model No\" :[]\n",
    "                ,\"Make\" :[]\n",
    "                ,\"Model\" :[]\n",
    "                ,\"Ex_Showroom_Price\" :[]\n",
    "                ,\"Sale_per_year\" :[]\n",
    "                ,\"Model_year\" :[]\n",
    "                ,\"Fuel_Type\" :[]\n",
    "                ,\"Seating_Capacity\" :[]\n",
    "                ,\"Speedometer\" :[]\n",
    "            })\n",
    "        Make_Choice=list(Make_Choice)\n",
    "        display(Make_Choice)\n",
    "        if(Make_Choice[0]!='Any'):\n",
    "            for make in Make_Choice:\n",
    "                Cars=car_data[cars_data['Make']==make]\n",
    "                list_1=np.append(arr=list_1,values=Cars,axis=0)\n",
    "            list_1=pd.DataFrame(list_1)\n",
    "            list_1.columns=[\"Model No\" \n",
    "                    ,\"Make\" \n",
    "                    ,\"Model\"\n",
    "                    ,\"Ex_Showroom_Price\" \n",
    "                    ,\"Sale_per_year\" \n",
    "                    ,\"Model_year\"\n",
    "                    ,\"Fuel_Type\" \n",
    "                    ,\"Seating_Capacity\" \n",
    "                    ,\"Speedometer\" ]\n",
    "        else :\n",
    "            list_1=car_data\n",
    "        list_1=list_1[list_1['Ex_Showroom_Price']<int(Budget)+fluctuation]\n",
    "        list_1=list_1[list_1['Seating_Capacity']>=int(Seat_Capacity)]\n",
    "        list_1 =list_1[list_1['Model_year']>=int(Model_Year)]\n",
    "        list_1= list_1[list_1['Fuel_Type']==Fuel_Type]\n",
    "        if(Speedometer!='Any'):\n",
    "            list_1=list_1[list_1['Speedometer']==Speedometer]    \n",
    "        list_1=list_1.sort_values(['Sale_per_year'],ascending =False)\n",
    "        display(list_1)"
   ]
  },
  {
   "cell_type": "code",
   "execution_count": 117,
   "id": "horizontal-motel",
   "metadata": {},
   "outputs": [],
   "source": [
    "def apply_filter(Unique_Cars,budget,seat_capacity):\n",
    "    \n",
    "        widgets.interact(filter_2\n",
    "                     ,Budget=budget\n",
    "                     ,Make_Choice =widgets.SelectMultiple( value=['Any']\n",
    "                                                          ,options=Unique_Cars\n",
    "                                                          ,description='Companies')\n",
    "                     ,Seat_Capacity=seat_capacity\n",
    "                     ,Model_Year=model_year\n",
    "                     ,Fuel_Type=fuel_type\n",
    "                     ,Speedometer=speedometer)"
   ]
  },
  {
   "cell_type": "code",
   "execution_count": 118,
   "id": "placed-classification",
   "metadata": {},
   "outputs": [],
   "source": [
    "def convert_file(Uploader):\n",
    "    try:\n",
    "        input_file=list(Uploader.values())[0]\n",
    "    except:\n",
    "        return \n",
    "    content=input_file['content']\n",
    "    content=io.StringIO(content.decode('utf-8'))\n",
    "    global car_data\n",
    "    car_data=pd.read_csv(content)\n",
    "    unique_cars=car_data.Make.unique()\n",
    "    unique_cars=list(unique_cars)\n",
    "    unique_cars.append('Any')\n",
    "    display(car_data)\n",
    "    seat_capacity_tuple=car_data.Seating_Capacity.unique()\n",
    "    seat_capacity_list=list(seat_capacity_tuple)\n",
    "    seat_capacity=seat_capacity_list\n",
    "    fuel_type_tuple=car_data.Fuel_Type.unique()\n",
    "    fuel_capacity_list=list(fuel_type_tuple)\n",
    "    fuel_type=fuel_capacity_list\n",
    "    Min_budget=car_data.Ex_Showroom_Price.min()\n",
    "    Max_budget=car_data.Ex_Showroom_Price.max()\n",
    "    budget=(Min_budget,Max_budget,100000)\n",
    "    apply_filter(unique_cars,budget,seat_capacity)"
   ]
  },
  {
   "cell_type": "code",
   "execution_count": 119,
   "id": "2ca24d5b",
   "metadata": {},
   "outputs": [
    {
     "data": {
      "application/vnd.jupyter.widget-view+json": {
       "model_id": "5ddb2f5f1c764bcbb23a29ac9e228ec0",
       "version_major": 2,
       "version_minor": 0
      },
      "text/plain": [
       "interactive(children=(FileUpload(value={}, accept='.csv', description='Upload'), Output()), _dom_classes=('wid…"
      ]
     },
     "metadata": {},
     "output_type": "display_data"
    },
    {
     "data": {
      "text/plain": [
       "<function __main__.convert_file(Uploader)>"
      ]
     },
     "execution_count": 119,
     "metadata": {},
     "output_type": "execute_result"
    }
   ],
   "source": [
    "uploader=widgets.FileUpload( accept='.csv', multiple=False )\n",
    "widgets.interact(convert_file,Uploader=uploader)"
   ]
  },
  {
   "cell_type": "code",
   "execution_count": 120,
   "id": "north-moses",
   "metadata": {},
   "outputs": [],
   "source": []
  },
  {
   "cell_type": "code",
   "execution_count": 121,
   "id": "8d3f6cfa",
   "metadata": {},
   "outputs": [
    {
     "data": {
      "application/vnd.jupyter.widget-view+json": {
       "model_id": "79aa48c779c541c59627374e4b89b720",
       "version_major": 2,
       "version_minor": 0
      },
      "text/plain": [
       "Image(value=b'\\xff\\xd8\\xff\\xe0\\x00\\x10JFIF\\x00\\x01\\x01\\x01\\x00H\\x00H\\x00\\x00\\xff\\xe2\\x02\\x1cICC_PROFILE\\x00\\x0…"
      ]
     },
     "metadata": {},
     "output_type": "display_data"
    }
   ],
   "source": [
    "display(wi2)"
   ]
  },
  {
   "cell_type": "code",
   "execution_count": null,
   "id": "included-campaign",
   "metadata": {},
   "outputs": [],
   "source": []
  },
  {
   "cell_type": "code",
   "execution_count": null,
   "id": "fd5c842a",
   "metadata": {},
   "outputs": [],
   "source": []
  },
  {
   "cell_type": "code",
   "execution_count": null,
   "id": "ad5ad629",
   "metadata": {},
   "outputs": [],
   "source": []
  },
  {
   "cell_type": "code",
   "execution_count": null,
   "id": "85e0204c",
   "metadata": {},
   "outputs": [],
   "source": []
  },
  {
   "cell_type": "code",
   "execution_count": null,
   "id": "f473b3d4",
   "metadata": {},
   "outputs": [],
   "source": []
  },
  {
   "cell_type": "code",
   "execution_count": null,
   "id": "283d9ad8",
   "metadata": {},
   "outputs": [],
   "source": []
  },
  {
   "cell_type": "code",
   "execution_count": null,
   "id": "55098cdc",
   "metadata": {},
   "outputs": [],
   "source": []
  },
  {
   "cell_type": "code",
   "execution_count": null,
   "id": "c5617513",
   "metadata": {},
   "outputs": [],
   "source": []
  },
  {
   "cell_type": "code",
   "execution_count": null,
   "id": "1bfa114e",
   "metadata": {},
   "outputs": [],
   "source": []
  },
  {
   "cell_type": "code",
   "execution_count": null,
   "id": "948de37f",
   "metadata": {},
   "outputs": [],
   "source": []
  },
  {
   "cell_type": "code",
   "execution_count": null,
   "id": "5702b30c",
   "metadata": {},
   "outputs": [],
   "source": []
  },
  {
   "cell_type": "code",
   "execution_count": null,
   "id": "3d204053",
   "metadata": {},
   "outputs": [],
   "source": []
  },
  {
   "cell_type": "code",
   "execution_count": null,
   "id": "f3131b85",
   "metadata": {},
   "outputs": [],
   "source": []
  },
  {
   "cell_type": "code",
   "execution_count": null,
   "id": "08ec0d9d",
   "metadata": {},
   "outputs": [],
   "source": []
  },
  {
   "cell_type": "code",
   "execution_count": null,
   "id": "65db9eea",
   "metadata": {},
   "outputs": [],
   "source": []
  },
  {
   "cell_type": "code",
   "execution_count": null,
   "id": "231e8f12",
   "metadata": {},
   "outputs": [],
   "source": []
  },
  {
   "cell_type": "code",
   "execution_count": null,
   "id": "c5edf5dd",
   "metadata": {},
   "outputs": [],
   "source": []
  },
  {
   "cell_type": "code",
   "execution_count": null,
   "id": "3a8482f7",
   "metadata": {},
   "outputs": [],
   "source": []
  },
  {
   "cell_type": "code",
   "execution_count": null,
   "id": "98f7743e",
   "metadata": {},
   "outputs": [],
   "source": []
  }
 ],
 "metadata": {
  "kernelspec": {
   "display_name": "Python 3",
   "language": "python",
   "name": "python3"
  },
  "language_info": {
   "codemirror_mode": {
    "name": "ipython",
    "version": 3
   },
   "file_extension": ".py",
   "mimetype": "text/x-python",
   "name": "python",
   "nbconvert_exporter": "python",
   "pygments_lexer": "ipython3",
   "version": "3.9.7"
  },
  "varInspector": {
   "cols": {
    "lenName": 16,
    "lenType": 16,
    "lenVar": 40
   },
   "kernels_config": {
    "python": {
     "delete_cmd_postfix": "",
     "delete_cmd_prefix": "del ",
     "library": "var_list.py",
     "varRefreshCmd": "print(var_dic_list())"
    },
    "r": {
     "delete_cmd_postfix": ") ",
     "delete_cmd_prefix": "rm(",
     "library": "var_list.r",
     "varRefreshCmd": "cat(var_dic_list()) "
    }
   },
   "types_to_exclude": [
    "module",
    "function",
    "builtin_function_or_method",
    "instance",
    "_Feature"
   ],
   "window_display": false
  }
 },
 "nbformat": 4,
 "nbformat_minor": 5
}
